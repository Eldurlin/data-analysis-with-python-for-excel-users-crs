{
 "cells": [
  {
   "cell_type": "markdown",
   "id": "32ce9f56",
   "metadata": {},
   "source": [
    "Coded with: https://www.youtube.com/watch?v=WcDaZ67TVRo"
   ]
  },
  {
   "cell_type": "code",
   "execution_count": null,
   "id": "f57ac6dd",
   "metadata": {},
   "outputs": [],
   "source": [
    "# Imports\n",
    "import pandas as pd\n",
    "import numpy as np"
   ]
  },
  {
   "cell_type": "markdown",
   "id": "c0981f0d",
   "metadata": {},
   "source": [
    "# 1. Creating a dataframe from an array"
   ]
  },
  {
   "cell_type": "markdown",
   "id": "745ab63c",
   "metadata": {},
   "source": [
    "## 1.1 Option 1"
   ]
  },
  {
   "cell_type": "code",
   "execution_count": null,
   "id": "9c6c5bcb",
   "metadata": {},
   "outputs": [],
   "source": [
    "# Creating an array\n",
    "data = np.array([[1, 4], [5, 7], [9, 3]])"
   ]
  },
  {
   "cell_type": "code",
   "execution_count": null,
   "id": "cfb7e2c2",
   "metadata": {},
   "outputs": [],
   "source": [
    "# Creating a dataframe\n",
    "df = pd.DataFrame(data, index=[\"row1\", \"row2\", \"row3\"], columns=[\"col1\", \"col2\"])"
   ]
  },
  {
   "cell_type": "code",
   "execution_count": null,
   "id": "870d2dae",
   "metadata": {},
   "outputs": [],
   "source": [
    "# Showing the dataframe\n",
    "df"
   ]
  },
  {
   "cell_type": "markdown",
   "id": "9ae71ef8",
   "metadata": {},
   "source": [
    "## 1.2 Option 2"
   ]
  },
  {
   "cell_type": "code",
   "execution_count": null,
   "id": "8943b638",
   "metadata": {},
   "outputs": [],
   "source": [
    "# Creating an array\n",
    "data = [[1, 4], [5, 7], [9, 3]]"
   ]
  },
  {
   "cell_type": "code",
   "execution_count": null,
   "id": "899483e6",
   "metadata": {},
   "outputs": [],
   "source": [
    "# Creating a dataframe\n",
    "df = pd.DataFrame(data, index=[\"row1\", \"row2\", \"row3\"], columns=[\"col1\", \"col2\"])"
   ]
  },
  {
   "cell_type": "code",
   "execution_count": null,
   "id": "a4ac798b",
   "metadata": {},
   "outputs": [],
   "source": [
    "# Showing the dataframe\n",
    "df"
   ]
  },
  {
   "cell_type": "markdown",
   "id": "8f13a7db",
   "metadata": {},
   "source": [
    "# 2. Creating a dataframe from a dictionary"
   ]
  },
  {
   "cell_type": "code",
   "execution_count": null,
   "id": "3fab1823",
   "metadata": {},
   "outputs": [],
   "source": [
    "# Lists used for this example\n",
    "states = [\"California\", \"Texas\", \"Florida\", \"New York\"]\n",
    "population = [39613495, 29730311, 21944577, 19299981]"
   ]
  },
  {
   "cell_type": "code",
   "execution_count": null,
   "id": "68798206",
   "metadata": {},
   "outputs": [],
   "source": [
    "# Storing lists within a dictionary\n",
    "dict_states = {\"States\": states, \"Population\": population}"
   ]
  },
  {
   "cell_type": "code",
   "execution_count": null,
   "id": "03c520e7",
   "metadata": {},
   "outputs": [],
   "source": [
    "# Creating the dataframe\n",
    "df_population = pd.DataFrame(dict_states)"
   ]
  },
  {
   "cell_type": "code",
   "execution_count": null,
   "id": "fa15a904",
   "metadata": {},
   "outputs": [],
   "source": [
    "# Showing the dataframe\n",
    "df_population"
   ]
  },
  {
   "cell_type": "markdown",
   "id": "02bafebc",
   "metadata": {},
   "source": [
    "# 3. Creating a dataframe from a csv file"
   ]
  },
  {
   "cell_type": "code",
   "execution_count": null,
   "id": "929787cf",
   "metadata": {},
   "outputs": [],
   "source": [
    "# Reading the csv file\n",
    "df_exams = pd.read_csv(\"students_performance.csv\")"
   ]
  },
  {
   "cell_type": "code",
   "execution_count": null,
   "id": "d78b72d9",
   "metadata": {},
   "outputs": [],
   "source": [
    "# Show first 5 rows in a dataframe\n",
    "df_exams.head()"
   ]
  },
  {
   "cell_type": "markdown",
   "id": "fee19ccf",
   "metadata": {},
   "source": [
    "# 4. Displaying a dataframe"
   ]
  },
  {
   "cell_type": "code",
   "execution_count": null,
   "id": "b32c5599",
   "metadata": {},
   "outputs": [],
   "source": [
    "# Reading the csv file\n",
    "df_exams = pd.read_csv(\"students_performance.csv\")"
   ]
  },
  {
   "cell_type": "code",
   "execution_count": null,
   "id": "7c398150",
   "metadata": {},
   "outputs": [],
   "source": [
    "# Show first 5 rows in a dataframe\n",
    "df_exams.head()"
   ]
  },
  {
   "cell_type": "code",
   "execution_count": null,
   "id": "e0d0af10",
   "metadata": {},
   "outputs": [],
   "source": [
    "# Show last 5 rows in a dataframe\n",
    "df_exams.tail()"
   ]
  },
  {
   "cell_type": "code",
   "execution_count": null,
   "id": "f282348b",
   "metadata": {},
   "outputs": [],
   "source": [
    "# Show last n rows in a dataframe\n",
    "df_exams.tail(10)"
   ]
  },
  {
   "cell_type": "code",
   "execution_count": null,
   "id": "0cae7d4f",
   "metadata": {},
   "outputs": [],
   "source": [
    "# Getting access to the shape attribute\n",
    "df_exams.shape"
   ]
  },
  {
   "cell_type": "code",
   "execution_count": null,
   "id": "bf1aafe6",
   "metadata": {},
   "outputs": [],
   "source": [
    "# Display n rows\n",
    "pd.set_option(\"display.max_rows\", 1000)\n",
    "df_exams"
   ]
  },
  {
   "cell_type": "markdown",
   "id": "e7c4900d",
   "metadata": {},
   "source": [
    "# 5. Basic attributes, methods and functions"
   ]
  },
  {
   "cell_type": "code",
   "execution_count": null,
   "id": "780ade40",
   "metadata": {},
   "outputs": [],
   "source": [
    "# Reading the csv file\n",
    "df_exams = pd.read_csv(\"students_performance.csv\")"
   ]
  },
  {
   "cell_type": "code",
   "execution_count": null,
   "id": "cbe1e790",
   "metadata": {},
   "outputs": [],
   "source": [
    "# Showing the dataframe\n",
    "df_exams"
   ]
  },
  {
   "cell_type": "markdown",
   "id": "0da61376",
   "metadata": {},
   "source": [
    "## 5.1 Attributes"
   ]
  },
  {
   "cell_type": "code",
   "execution_count": null,
   "id": "b7f71908",
   "metadata": {},
   "outputs": [],
   "source": [
    "# Getting access to the shape attribute\n",
    "df_exams.shape"
   ]
  },
  {
   "cell_type": "code",
   "execution_count": null,
   "id": "7b054029",
   "metadata": {},
   "outputs": [],
   "source": [
    "# Getting access to the index attribute\n",
    "df_exams.index"
   ]
  },
  {
   "cell_type": "code",
   "execution_count": null,
   "id": "bc8b9a35",
   "metadata": {},
   "outputs": [],
   "source": [
    "# Getting access to the column attribute\n",
    "df_exams.columns"
   ]
  },
  {
   "cell_type": "code",
   "execution_count": null,
   "id": "df62d3fc",
   "metadata": {},
   "outputs": [],
   "source": [
    "# Data types of each column\n",
    "df_exams.dtypes"
   ]
  },
  {
   "cell_type": "markdown",
   "id": "6f4c0805",
   "metadata": {},
   "source": [
    "## 5.2 Methods"
   ]
  },
  {
   "cell_type": "code",
   "execution_count": null,
   "id": "50af85f3",
   "metadata": {},
   "outputs": [],
   "source": [
    "# Showing the first 5 columns\n",
    "df_exams.head()"
   ]
  },
  {
   "cell_type": "code",
   "execution_count": null,
   "id": "5eafef9b",
   "metadata": {},
   "outputs": [],
   "source": [
    "# Showing the info of the dataframe\n",
    "df_exams.info()"
   ]
  },
  {
   "cell_type": "code",
   "execution_count": null,
   "id": "f1b72cff",
   "metadata": {},
   "outputs": [],
   "source": [
    "# Describing basic statistics of the dataframe\n",
    "df_exams.describe()"
   ]
  },
  {
   "cell_type": "markdown",
   "id": "f9b5d03a",
   "metadata": {},
   "source": [
    "## 5.3 Functions"
   ]
  },
  {
   "cell_type": "code",
   "execution_count": null,
   "id": "50b4bfe9",
   "metadata": {},
   "outputs": [],
   "source": [
    "# Obtaining the length of the dataframe (number of rows)\n",
    "len(df_exams)"
   ]
  },
  {
   "cell_type": "code",
   "execution_count": null,
   "id": "5628a578",
   "metadata": {},
   "outputs": [],
   "source": [
    "# Obtaining the highest index of the dataframe\n",
    "max(df_exams.index)"
   ]
  },
  {
   "cell_type": "code",
   "execution_count": null,
   "id": "6fb75dbe",
   "metadata": {},
   "outputs": [],
   "source": [
    "# Obtaining the lowest index of the dataframe\n",
    "min(df_exams.index)"
   ]
  },
  {
   "cell_type": "code",
   "execution_count": null,
   "id": "70de459e",
   "metadata": {},
   "outputs": [],
   "source": [
    "# Obtaining the data type\n",
    "type(df_exams)"
   ]
  },
  {
   "cell_type": "code",
   "execution_count": null,
   "id": "2e04d20f",
   "metadata": {},
   "outputs": [],
   "source": [
    "# Rounding the values of the dataset\n",
    "round(df_exams, 2)"
   ]
  },
  {
   "cell_type": "markdown",
   "id": "0e997444",
   "metadata": {},
   "source": [
    "# 6. Selecting one column"
   ]
  },
  {
   "cell_type": "markdown",
   "id": "3fe83042",
   "metadata": {},
   "source": [
    "## 6.1 Syntax 1"
   ]
  },
  {
   "cell_type": "code",
   "execution_count": null,
   "id": "05ecf22d",
   "metadata": {},
   "outputs": [],
   "source": [
    "# Reading the csv file\n",
    "df_exams = pd.read_csv(\"students_performance.csv\")"
   ]
  },
  {
   "cell_type": "code",
   "execution_count": null,
   "id": "475718b5",
   "metadata": {},
   "outputs": [],
   "source": [
    "# Select a column with [] (preferred way to select a column)\n",
    "df_exams[\"gender\"]"
   ]
  },
  {
   "cell_type": "code",
   "execution_count": null,
   "id": "9f6dae30",
   "metadata": {},
   "outputs": [],
   "source": [
    "# Check out the data type of a column\n",
    "type(df_exams[\"gender\"])"
   ]
  },
  {
   "cell_type": "code",
   "execution_count": null,
   "id": "8a557a18",
   "metadata": {},
   "outputs": [],
   "source": [
    "# Series: attributes and methods\n",
    "df_exams[\"gender\"].index\n",
    "df_exams[\"gender\"].head()"
   ]
  },
  {
   "cell_type": "markdown",
   "id": "6900b9a5",
   "metadata": {},
   "source": [
    "## 6.2 Syntax 2"
   ]
  },
  {
   "cell_type": "code",
   "execution_count": null,
   "id": "9bd3dbf0",
   "metadata": {},
   "outputs": [],
   "source": [
    "# Select a column with '.'\n",
    "df_exams.gender"
   ]
  },
  {
   "cell_type": "code",
   "execution_count": null,
   "id": "138dd49f",
   "metadata": {},
   "outputs": [],
   "source": [
    "# Select a column with '.' (pitfalls)\n",
    "df_exams.math score"
   ]
  },
  {
   "cell_type": "code",
   "execution_count": null,
   "id": "1942892d",
   "metadata": {},
   "outputs": [],
   "source": [
    "# Select the same column using []\n",
    "df_exams[\"math score\"]"
   ]
  },
  {
   "cell_type": "markdown",
   "id": "798c14d8",
   "metadata": {},
   "source": [
    "# 7. Selecting two or more columns"
   ]
  },
  {
   "cell_type": "code",
   "execution_count": null,
   "id": "897b89d5",
   "metadata": {},
   "outputs": [],
   "source": [
    "# Reading the csv file\n",
    "df_exams = pd.read_csv(\"students_performance.csv\")\n",
    "df_exams"
   ]
  },
  {
   "cell_type": "code",
   "execution_count": null,
   "id": "6b5ba71d",
   "metadata": {},
   "outputs": [],
   "source": [
    "# Select two columns using [[]]\n",
    "df_exams[[\"gender\", \"math score\"]]"
   ]
  },
  {
   "cell_type": "code",
   "execution_count": null,
   "id": "84b781e7",
   "metadata": {},
   "outputs": [],
   "source": [
    "# Check out the data type of the selection\n",
    "type(df_exams[[\"gender\", \"math score\"]])"
   ]
  },
  {
   "cell_type": "code",
   "execution_count": null,
   "id": "79962a86",
   "metadata": {},
   "outputs": [],
   "source": [
    "# Select two or more columns using [[]]\n",
    "df_exams[[\"gender\", \"math score\", \"reading score\", \"writing score\"]]"
   ]
  },
  {
   "cell_type": "markdown",
   "id": "e5087501",
   "metadata": {},
   "source": [
    "We can't select two or more columns with '.' like we did above."
   ]
  },
  {
   "cell_type": "markdown",
   "id": "a46f9571",
   "metadata": {},
   "source": [
    "# 8. Adding new column to a dataframe"
   ]
  },
  {
   "cell_type": "code",
   "execution_count": null,
   "id": "3dc0b077",
   "metadata": {},
   "outputs": [],
   "source": [
    "# Reading the csv file\n",
    "df_exams = pd.read_csv(\"students_performance.csv\")\n",
    "df_exams"
   ]
  },
  {
   "cell_type": "markdown",
   "id": "889c2901",
   "metadata": {},
   "source": [
    "## 8.1 Adding a new column with a scalar value"
   ]
  },
  {
   "cell_type": "code",
   "execution_count": null,
   "id": "fa97ad06",
   "metadata": {},
   "outputs": [],
   "source": [
    "# Adding new column to a dataframe\n",
    "df_exams[\"language score\"] = 70\n",
    "df_exams"
   ]
  },
  {
   "cell_type": "markdown",
   "id": "f10ff422",
   "metadata": {},
   "source": [
    "## 8.2 Adding a new column with an array"
   ]
  },
  {
   "cell_type": "markdown",
   "id": "4fcd8e95",
   "metadata": {},
   "source": [
    "The dataframe has 1000 rows, so we need to create an arrat with 1000 elements."
   ]
  },
  {
   "cell_type": "code",
   "execution_count": null,
   "id": "b7a299bc",
   "metadata": {},
   "outputs": [],
   "source": [
    "# Create an array of 1000 elements using numpy\n",
    "language_score = np.arange(0, 1000)"
   ]
  },
  {
   "cell_type": "code",
   "execution_count": null,
   "id": "76e85892",
   "metadata": {},
   "outputs": [],
   "source": [
    "# Length of the array\n",
    "len(language_score)"
   ]
  },
  {
   "cell_type": "code",
   "execution_count": null,
   "id": "4e94ce3b",
   "metadata": {},
   "outputs": [],
   "source": [
    "# Adding a new column to dataframe with an array\n",
    "df_exams[\"language score\"] = language_score\n",
    "df_exams"
   ]
  },
  {
   "cell_type": "code",
   "execution_count": null,
   "id": "a463f45b",
   "metadata": {},
   "outputs": [],
   "source": [
    "# Create random integer numbers between 1 and 100\n",
    "int_language_score = np.random.randint(1, 100, size=1000)"
   ]
  },
  {
   "cell_type": "code",
   "execution_count": null,
   "id": "02a4f0e6",
   "metadata": {},
   "outputs": [],
   "source": [
    "# Min value inclusive and high value exclusive\n",
    "min(int_language_score)\n",
    "max(int_language_score)"
   ]
  },
  {
   "cell_type": "code",
   "execution_count": null,
   "id": "ca360ee9",
   "metadata": {},
   "outputs": [],
   "source": [
    "# Adding a new column to dataframe with an array\n",
    "df_exams[\"language score\"] = int_language_score\n",
    "df_exams"
   ]
  },
  {
   "cell_type": "code",
   "execution_count": null,
   "id": "4ac900da",
   "metadata": {},
   "outputs": [],
   "source": [
    "# Create random float numbers between 1 and 100\n",
    "np.random.uniform(1, 100, size=100)"
   ]
  },
  {
   "cell_type": "markdown",
   "id": "8ba91261",
   "metadata": {},
   "source": [
    "# 9. Operations on dataframes"
   ]
  },
  {
   "cell_type": "markdown",
   "id": "1cf12372",
   "metadata": {},
   "source": [
    "## 9.1 Math operations"
   ]
  },
  {
   "cell_type": "code",
   "execution_count": null,
   "id": "e4aede40",
   "metadata": {},
   "outputs": [],
   "source": [
    "# Reading the csv file\n",
    "df_exams = pd.read_csv(\"students_performance.csv\")\n",
    "df_exams"
   ]
  },
  {
   "cell_type": "markdown",
   "id": "45719d84",
   "metadata": {},
   "source": [
    "### 9.1.1 Operations in columns"
   ]
  },
  {
   "cell_type": "code",
   "execution_count": null,
   "id": "edb8e682",
   "metadata": {},
   "outputs": [],
   "source": [
    "# Select a column and calculate total sum\n",
    "df_exams[\"math score\"].sum()"
   ]
  },
  {
   "cell_type": "code",
   "execution_count": null,
   "id": "0688dbc0",
   "metadata": {},
   "outputs": [],
   "source": [
    "# count, mean, std, max, min\n",
    "df_exams[\"math score\"].count()\n",
    "df_exams[\"math score\"].mean()\n",
    "df_exams[\"math score\"].std()\n",
    "df_exams[\"math score\"].max()\n",
    "df_exams[\"math score\"].min()"
   ]
  },
  {
   "cell_type": "code",
   "execution_count": null,
   "id": "0c495ef6",
   "metadata": {},
   "outputs": [],
   "source": [
    "# Easier calculation with .describe()\n",
    "df_exams[\"math score\"].describe()"
   ]
  },
  {
   "cell_type": "markdown",
   "id": "29c0d661",
   "metadata": {},
   "source": [
    "### 9.1.2 Operations in rows"
   ]
  },
  {
   "cell_type": "code",
   "execution_count": null,
   "id": "7dbe9f71",
   "metadata": {},
   "outputs": [],
   "source": [
    "# Calculating the sum in a row\n",
    "df_exams[\"math score\"] + df_exams[\"reading score\"] + df_exams[\"writing score\"]"
   ]
  },
  {
   "cell_type": "code",
   "execution_count": null,
   "id": "a51da55e",
   "metadata": {},
   "outputs": [],
   "source": [
    "# Calculating the average score and assigning the result to a new column\n",
    "df_exams[\"average\"] = (df_exams[\"math score\"] + df_exams[\"reading score\"] + df_exams[\"writing score\"]) / 3"
   ]
  },
  {
   "cell_type": "code",
   "execution_count": null,
   "id": "686a5573",
   "metadata": {},
   "outputs": [],
   "source": [
    "# Showing the dataframe\n",
    "df_exams.round(2)"
   ]
  },
  {
   "cell_type": "markdown",
   "id": "8011248b",
   "metadata": {},
   "source": [
    "# 10. The value_counts() method"
   ]
  },
  {
   "cell_type": "code",
   "execution_count": null,
   "id": "cf68e062",
   "metadata": {},
   "outputs": [],
   "source": [
    "# Reading the csv file\n",
    "df_exams = pd.read_csv(\"students_performance.csv\")\n",
    "df_exams"
   ]
  },
  {
   "cell_type": "markdown",
   "id": "69cf38e5",
   "metadata": {},
   "source": [
    "## 10.1 Value counts"
   ]
  },
  {
   "cell_type": "code",
   "execution_count": null,
   "id": "19a00a5d",
   "metadata": {},
   "outputs": [],
   "source": [
    "# Counting gender elements\n",
    "# Length function\n",
    "len(df_exams[\"gender\"])\n",
    "\n",
    "# .count() method\n",
    "df_exams[\"gender\"].count()"
   ]
  },
  {
   "cell_type": "code",
   "execution_count": null,
   "id": "925355f5",
   "metadata": {},
   "outputs": [],
   "source": [
    "# Counting gender elements by category\n",
    "df_exams[\"gender\"].value_counts()"
   ]
  },
  {
   "cell_type": "code",
   "execution_count": null,
   "id": "4c75ccfb",
   "metadata": {},
   "outputs": [],
   "source": [
    "# Return the relative frequency (divide all values by the sum of values)\n",
    "df_exams[\"gender\"].value_counts(normalize=True)"
   ]
  },
  {
   "cell_type": "code",
   "execution_count": null,
   "id": "1c6d99dc",
   "metadata": {},
   "outputs": [],
   "source": [
    "# Counting \"parental level of education\" elements by category\n",
    "df_exams[\"parental level of education\"].value_counts()"
   ]
  },
  {
   "cell_type": "code",
   "execution_count": null,
   "id": "bec9ad13",
   "metadata": {},
   "outputs": [],
   "source": [
    "# Return the relative frequency and round to two decimals\n",
    "df_exams[\"parental level of education\"].value_counts(normalize=True).round(2)"
   ]
  },
  {
   "cell_type": "markdown",
   "id": "1efe949f",
   "metadata": {},
   "source": [
    "# 11. Sort a dataframe with sort_values()"
   ]
  },
  {
   "cell_type": "code",
   "execution_count": null,
   "id": "e2217e00",
   "metadata": {},
   "outputs": [],
   "source": [
    "# Reading the csv file\n",
    "df_exams = pd.read_csv(\"students_performance.csv\")\n",
    "df_exams"
   ]
  },
  {
   "cell_type": "markdown",
   "id": "ea004586",
   "metadata": {},
   "source": [
    "## 11.1 Sort a dataframe"
   ]
  },
  {
   "cell_type": "code",
   "execution_count": null,
   "id": "de91b54e",
   "metadata": {},
   "outputs": [],
   "source": [
    "# Sort by one column\n",
    "df_exams.sort_values(\"math score\")"
   ]
  },
  {
   "cell_type": "code",
   "execution_count": null,
   "id": "827bc20e",
   "metadata": {},
   "outputs": [],
   "source": [
    "# Sort descending by one column\n",
    "df_exams.sort_values(\"math score\", ascending=False)"
   ]
  },
  {
   "cell_type": "code",
   "execution_count": null,
   "id": "643e1daa",
   "metadata": {},
   "outputs": [],
   "source": [
    "# Sort descending by multiple columns\n",
    "df_exams.sort_values([\"math score\", \"reading score\"], ascending=False)"
   ]
  },
  {
   "cell_type": "code",
   "execution_count": null,
   "id": "c643fec7",
   "metadata": {},
   "outputs": [],
   "source": [
    "# Sort descending by multiple columns and update dataframe\n",
    "df_exams.sort_values([\"math score\", \"reading score\"], ascending=False, inplace=True)\n",
    "df_exams"
   ]
  },
  {
   "cell_type": "code",
   "execution_count": null,
   "id": "9bed4156",
   "metadata": {},
   "outputs": [],
   "source": [
    "# Sort descending with a key function\n",
    "df_exams.sort_values(\"race/ethnicity\", ascending=True, key=lambda col:col.str.lower())"
   ]
  },
  {
   "cell_type": "markdown",
   "id": "5d2c6ca6",
   "metadata": {},
   "source": [
    "# 12. Pivot Tables"
   ]
  },
  {
   "cell_type": "code",
   "execution_count": null,
   "id": "4dbb6bbc",
   "metadata": {},
   "outputs": [],
   "source": [
    "# Read and show the dataset\n",
    "df_gdp = pd.read_csv(\"gdp.csv\", encoding=\"latin-1\")\n",
    "df_gdp"
   ]
  },
  {
   "cell_type": "markdown",
   "id": "c09a4746",
   "metadata": {},
   "source": [
    "## 12.1 pivot()"
   ]
  },
  {
   "cell_type": "code",
   "execution_count": null,
   "id": "5f05af3d",
   "metadata": {},
   "outputs": [],
   "source": [
    "# Reshape the dataframe with .pivot()\n",
    "df_gdp.pivot(index=\"country\", columns=\"year\", values=\"gdppc\")"
   ]
  },
  {
   "cell_type": "markdown",
   "id": "e8d78ccf",
   "metadata": {},
   "source": [
    "## 12.2 pivot_tables()"
   ]
  },
  {
   "cell_type": "code",
   "execution_count": null,
   "id": "122e7b14",
   "metadata": {},
   "outputs": [],
   "source": [
    "# Read and show the dataset\n",
    "df_sales = pd.read_excel(\"supermarket_sales.xlsx\")\n",
    "df_sales"
   ]
  },
  {
   "cell_type": "code",
   "execution_count": null,
   "id": "8d6313f4",
   "metadata": {},
   "outputs": [],
   "source": [
    "# Make a pivot table and add aggregate function\n",
    "df_sales.pivot_table(index=\"Gender\", aggfunc=\"sum\")"
   ]
  },
  {
   "cell_type": "code",
   "execution_count": null,
   "id": "bb96d6c5",
   "metadata": {},
   "outputs": [],
   "source": [
    "# Make a pivot table, add an aggregate function and select some columns\n",
    "df_sales.pivot_table(index=\"Gender\", values=[\"Quantity\", \"Total\"], aggfunc=\"sum\")"
   ]
  },
  {
   "cell_type": "code",
   "execution_count": null,
   "id": "0a36ab0e",
   "metadata": {},
   "outputs": [],
   "source": [
    "# Make a pivot tables that says how much male and female spend in each category\n",
    "df_sales.pivot_table(index=\"Gender\", columns=\"Product line\", values=\"Total\", aggfunc=\"sum\")"
   ]
  },
  {
   "cell_type": "markdown",
   "id": "813438a7",
   "metadata": {},
   "source": [
    "# 13. Dataset overview and making a pivot table"
   ]
  },
  {
   "cell_type": "code",
   "execution_count": null,
   "id": "070a35f1",
   "metadata": {},
   "outputs": [],
   "source": [
    "# Read and show the dataset\n",
    "df_population_raw = pd.read_csv(\"population_total.csv\")\n",
    "df_population_raw"
   ]
  },
  {
   "cell_type": "markdown",
   "id": "406cafee",
   "metadata": {},
   "source": [
    "## 13.1 Making a pivot table"
   ]
  },
  {
   "cell_type": "markdown",
   "id": "aa952576",
   "metadata": {},
   "source": [
    ".pivot(): Returns reshaped DataFrame organized by given index / column values (\"pivot without aggregation\")"
   ]
  },
  {
   "cell_type": "code",
   "execution_count": null,
   "id": "1f6326cb",
   "metadata": {},
   "outputs": [],
   "source": [
    "# Dropping null values\n",
    "df_population_raw.dropna(inplace=True)"
   ]
  },
  {
   "cell_type": "code",
   "execution_count": null,
   "id": "dfd7ecbf",
   "metadata": {},
   "outputs": [],
   "source": [
    "# Making a pivot table\n",
    "df_pivot = df_population_raw.pivot(index=\"year\", columns=\"country\", values=\"population\")"
   ]
  },
  {
   "cell_type": "code",
   "execution_count": null,
   "id": "42ec94d2",
   "metadata": {},
   "outputs": [],
   "source": [
    "# Selecting few countries\n",
    "df_pivot = df_pivot[[\"Poland\", \"Germany\", \"Norway\", \"France\", \"Austria\"]]"
   ]
  },
  {
   "cell_type": "code",
   "execution_count": null,
   "id": "67a61880",
   "metadata": {},
   "outputs": [],
   "source": [
    "# Showing pivot table\n",
    "df_pivot"
   ]
  },
  {
   "cell_type": "markdown",
   "id": "967e69a7",
   "metadata": {},
   "source": [
    "## 13.2 Data Visualization"
   ]
  },
  {
   "cell_type": "markdown",
   "id": "76aaa0e5",
   "metadata": {},
   "source": [
    "### 13.2.1 Lineplot"
   ]
  },
  {
   "cell_type": "code",
   "execution_count": null,
   "id": "e4aba227",
   "metadata": {},
   "outputs": [],
   "source": [
    "df_pivot.plot(kind=\"line\", xlabel=\"Year\", ylabel=\"Population\", title=\"Population 1955-2020\", figsize=(15, 10))"
   ]
  },
  {
   "cell_type": "markdown",
   "id": "d9c6d723",
   "metadata": {},
   "source": [
    "### 13.2.2 Barplot"
   ]
  },
  {
   "cell_type": "markdown",
   "id": "30f53706",
   "metadata": {},
   "source": [
    "#### 13.2.2.1 Single barplot"
   ]
  },
  {
   "cell_type": "code",
   "execution_count": null,
   "id": "868d1b95",
   "metadata": {},
   "outputs": [],
   "source": [
    "# Selecting only one year\n",
    "df_pivot_1995 = df_pivot[df_pivot.index.isin([1995])]"
   ]
  },
  {
   "cell_type": "code",
   "execution_count": null,
   "id": "ad580d15",
   "metadata": {},
   "outputs": [],
   "source": [
    "# Showing new dataframe\n",
    "df_pivot_1995"
   ]
  },
  {
   "cell_type": "code",
   "execution_count": null,
   "id": "c6922f93",
   "metadata": {},
   "outputs": [],
   "source": [
    "# Transpose dataframe from rows to columns or viceversa\n",
    "df_pivot_1995 = df_pivot_1995.T"
   ]
  },
  {
   "cell_type": "code",
   "execution_count": null,
   "id": "1b827948",
   "metadata": {},
   "outputs": [],
   "source": [
    "# Making barplot\n",
    "df_pivot_1995.plot(kind=\"bar\", color=\"orange\", xlabel=\"Year\", ylabel=\"Population\", title=\"Population in 1995\", figsize=(15, 10))"
   ]
  },
  {
   "cell_type": "markdown",
   "id": "e069d5a0",
   "metadata": {},
   "source": [
    "#### 13.2.2.2 Barplot grouped by n variables"
   ]
  },
  {
   "cell_type": "code",
   "execution_count": null,
   "id": "a030c50c",
   "metadata": {},
   "outputs": [],
   "source": [
    "# Selecting a few years\n",
    "df_pivot_sample = df_pivot[df_pivot.index.isin([1995, 2000, 2005, 2010])]\n",
    "df_pivot_sample"
   ]
  },
  {
   "cell_type": "code",
   "execution_count": null,
   "id": "77d15482",
   "metadata": {},
   "outputs": [],
   "source": [
    "# Making grouped barplot\n",
    "df_pivot_sample.plot(kind=\"bar\", xlabel=\"Year\", ylabel=\"Population\", title=\"Population in 1995\", figsize=(15, 10))"
   ]
  },
  {
   "cell_type": "markdown",
   "id": "a0723cd7",
   "metadata": {},
   "source": [
    "### 13.2.3 Piechart"
   ]
  },
  {
   "cell_type": "code",
   "execution_count": null,
   "id": "83630bce",
   "metadata": {},
   "outputs": [],
   "source": [
    "# Changing column name\n",
    "df_pivot_1995.rename(columns={1995:\"1995\"}, inplace=True)"
   ]
  },
  {
   "cell_type": "code",
   "execution_count": null,
   "id": "07ce6074",
   "metadata": {},
   "outputs": [],
   "source": [
    "# Making the plot\n",
    "df_pivot_1995.plot(kind=\"pie\", y=\"1995\", title=\"Population in 1995(%)\")"
   ]
  },
  {
   "cell_type": "markdown",
   "id": "746a34ed",
   "metadata": {},
   "source": [
    "# 14. Adding matplotlib"
   ]
  },
  {
   "cell_type": "code",
   "execution_count": null,
   "id": "b4687b60",
   "metadata": {},
   "outputs": [],
   "source": [
    "import matplotlib.pyplot as plt"
   ]
  },
  {
   "cell_type": "markdown",
   "id": "2ce09533",
   "metadata": {},
   "source": [
    "## 14.1 Lineplot"
   ]
  },
  {
   "cell_type": "code",
   "execution_count": null,
   "id": "1094d614",
   "metadata": {},
   "outputs": [],
   "source": [
    "df_pivot.plot(kind=\"line\", xlabel=\"Years\", ylabel=\"Population\", title=\"Population 1955-2020\", figsize=(15, 10))\n",
    "\n",
    "# Save plot as image\n",
    "plt.savefig(\"my_test.png\")\n",
    "\n",
    "# Show plot\n",
    "plt.show()"
   ]
  },
  {
   "cell_type": "code",
   "execution_count": null,
   "id": "654c9af5",
   "metadata": {},
   "outputs": [],
   "source": [
    "# Save plot as spreadsheet\n",
    "df_pivot.to_excel(\"pivot_table.xlsx\")"
   ]
  }
 ],
 "metadata": {
  "kernelspec": {
   "display_name": "Python 3 (ipykernel)",
   "language": "python",
   "name": "python3"
  },
  "language_info": {
   "codemirror_mode": {
    "name": "ipython",
    "version": 3
   },
   "file_extension": ".py",
   "mimetype": "text/x-python",
   "name": "python",
   "nbconvert_exporter": "python",
   "pygments_lexer": "ipython3",
   "version": "3.10.0"
  }
 },
 "nbformat": 4,
 "nbformat_minor": 5
}
